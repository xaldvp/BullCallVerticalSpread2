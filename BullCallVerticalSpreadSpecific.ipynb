{
 "cells": [
  {
   "cell_type": "code",
   "execution_count": 1,
   "metadata": {},
   "outputs": [
    {
     "data": {
      "text/plain": [
       "array(['2023-01-06', '2023-01-13', '2023-01-20', '2023-01-27',\n",
       "       '2023-02-03', '2023-02-10', '2023-02-17', '2023-03-17',\n",
       "       '2023-04-21', '2023-06-16', '2023-07-21', '2023-09-15',\n",
       "       '2024-01-19', '2025-01-17'], dtype='<U10')"
      ]
     },
     "execution_count": 1,
     "metadata": {},
     "output_type": "execute_result"
    }
   ],
   "source": [
    "from yahoo_fin import options\n",
    "import numpy as np\n",
    "from yahoo_fin import options\n",
    "import yfinance as yf\n",
    "\n",
    "ticker = 'intc'\n",
    "\n",
    "ticker_yf = yf.Ticker(ticker)\n",
    "\n",
    "ticker_yf.options\n",
    "exparr = np.asarray(ticker_yf.options)\n",
    "exparr"
   ]
  },
  {
   "cell_type": "code",
   "execution_count": 2,
   "metadata": {},
   "outputs": [],
   "source": [
    "#a me per ora serve solo data 21-07 per l'operazione che ho fatto\n",
    "exp_date='2023-07-21'\n",
    "opt=ticker_yf.option_chain(date=exp_date)\n",
    "calls_df=opt.calls"
   ]
  },
  {
   "cell_type": "code",
   "execution_count": 3,
   "metadata": {},
   "outputs": [
    {
     "data": {
      "text/plain": [
       "[[28.0, -444.8275862068965, 129.0, -29.000000000000004],\n",
       " [29.0, 1233.3333333333342, 185.0, 14.999999999999991],\n",
       " [30.0, 435.71428571428567, 244.0, 56.00000000000001],\n",
       " [31.0, 349.4382022471911, 311.00000000000006, 88.99999999999999],\n",
       " [32.0, 323.7288135593221, 382.0, 118.0],\n",
       " [33.0, 316.6666666666667, 456.00000000000006, 144.0],\n",
       " [34.0, 321.6867469879518, 534.0, 166.0],\n",
       " [35.0, 339.56043956043953, 618.0, 181.99999999999997],\n",
       " [36.0, 359.18367346938777, 704.0, 196.0],\n",
       " [37.0, 385.43689320388347, 794.0, 206.0]]"
      ]
     },
     "execution_count": 3,
     "metadata": {},
     "output_type": "execute_result"
    }
   ],
   "source": [
    "mystrike=27\n",
    "paidpremium=2.5\n",
    "numofstrike=10\n",
    "\n",
    "\n",
    "calls_arr=np.asarray(calls_df.query('strike>27')) #il mio strike è 27 in questo caso\n",
    "calls_arr\n",
    "netpremium_arr=[None] * numofstrike #voglio i primi x strinke \n",
    "deltastrike_arr=[None] * numofstrike \n",
    "profitpercentage_arr=[None]* numofstrike\n",
    "Matrix = [[0 for x in range(4)] for y in range(numofstrike)] \n",
    "\n",
    "for i in range(numofstrike):\n",
    "    netpremium_arr[i]=paidpremium-calls_arr[i][4]\n",
    "    deltastrike_arr[i]=calls_arr[i][2]-mystrike\n",
    "    profitpercentage_arr[i]=(deltastrike_arr[i]/netpremium_arr[i])*100\n",
    "    Matrix[i][0]=calls_arr[i][2] #prima colonna strike di rifeirmento \n",
    "    Matrix[i][1]=((deltastrike_arr[i]-netpremium_arr[i])/netpremium_arr[i])*100 #seconda colonna rendimento percentuale (sul netpremium)\n",
    "    Matrix[i][2]=(deltastrike_arr[i]-netpremium_arr[i])*100 #rendimento in $\n",
    "    Matrix[i][3]=netpremium_arr[i]*100 #rischio in $\n",
    "\n",
    "\n",
    "\n",
    "profitpercentage_arr\n",
    "Matrix\n"
   ]
  }
 ],
 "metadata": {
  "kernelspec": {
   "display_name": "Python 3",
   "language": "python",
   "name": "python3"
  },
  "language_info": {
   "codemirror_mode": {
    "name": "ipython",
    "version": 3
   },
   "file_extension": ".py",
   "mimetype": "text/x-python",
   "name": "python",
   "nbconvert_exporter": "python",
   "pygments_lexer": "ipython3",
   "version": "3.9.7 (v3.9.7:1016ef3790, Aug 30 2021, 16:39:15) \n[Clang 6.0 (clang-600.0.57)]"
  },
  "orig_nbformat": 4,
  "vscode": {
   "interpreter": {
    "hash": "aee8b7b246df8f9039afb4144a1f6fd8d2ca17a180786b69acc140d282b71a49"
   }
  }
 },
 "nbformat": 4,
 "nbformat_minor": 2
}
