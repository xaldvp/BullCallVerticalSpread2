{
 "cells": [
  {
   "cell_type": "code",
   "execution_count": 1,
   "metadata": {},
   "outputs": [
    {
     "data": {
      "text/plain": [
       "array(['2023-01-13', '2023-01-20', '2023-01-27', '2023-02-03',\n",
       "       '2023-02-10', '2023-02-17', '2023-02-24', '2023-03-17',\n",
       "       '2023-04-21', '2023-06-16', '2023-07-21', '2023-09-15',\n",
       "       '2024-01-19', '2025-01-17'], dtype='<U10')"
      ]
     },
     "execution_count": 1,
     "metadata": {},
     "output_type": "execute_result"
    }
   ],
   "source": [
    "from yahoo_fin import options\n",
    "import numpy as np\n",
    "from yahoo_fin import options\n",
    "import yfinance as yf\n",
    "\n",
    "ticker = 'intc'\n",
    "\n",
    "ticker_yf = yf.Ticker(ticker)\n",
    "\n",
    "ticker_yf.options\n",
    "exparr = np.asarray(ticker_yf.options)\n",
    "exparr"
   ]
  },
  {
   "cell_type": "code",
   "execution_count": 2,
   "metadata": {},
   "outputs": [
    {
     "name": "stdout",
     "output_type": "stream",
     "text": [
      "32\n",
      "60\n",
      "24\n",
      "20\n",
      "16\n",
      "27\n",
      "13\n",
      "18\n",
      "28\n",
      "36\n",
      "25\n",
      "9\n",
      "25\n",
      "14\n"
     ]
    }
   ],
   "source": [
    "#Creo array con tutte le opzioni [expiration date] [strike] [feature]\n",
    "all_arr=[None] * exparr.size #array che contiene arrays, ogni arrays ha al suo interno tutte le opzioni con una determinata scadenza\n",
    "for i in range(exparr.size):\n",
    "    opt=np.asarray(ticker_yf.option_chain(date=exparr[i]).calls) #solo calls\n",
    "    all_arr[i]=opt\n",
    "#print(all_arr[0].size)\n",
    "#print(exparr.size)\n",
    "\n",
    "int1=[0] * exparr.size\n",
    "int2=[0] * exparr.size\n",
    "for i in range(exparr.size):\n",
    "    int1[i],int2[i]=all_arr[i].shape\n",
    "    print(int1[i])\n",
    "\n"
   ]
  },
  {
   "cell_type": "code",
   "execution_count": 3,
   "metadata": {},
   "outputs": [
    {
     "name": "stdout",
     "output_type": "stream",
     "text": [
      "  FirstContract SecondContract  FirstStrike  SecondStrike  FirstAskPremium  \\\n",
      "0             x              y            0             0                0   \n",
      "\n",
      "   SecondBidPremium  RendimentoPerc  RischioDollar  \n",
      "0                 0               0              0  \n"
     ]
    }
   ],
   "source": [
    "import pandas as pd\n",
    "data = ({\n",
    "    'FirstContract':[\"x\"],\n",
    "    'SecondContract':[\"y\"],\n",
    "    'FirstStrike':[0],\n",
    "    'SecondStrike':[0],\n",
    "    'FirstAskPremium':[0],\n",
    "    'SecondBidPremium':[0],\n",
    "    'RendimentoPerc' :[0],\n",
    "    'RischioDollar':[0]\n",
    "               })\n",
    "df = pd.DataFrame(data)\n",
    "print(df)"
   ]
  },
  {
   "cell_type": "code",
   "execution_count": 4,
   "metadata": {},
   "outputs": [],
   "source": [
    "#GET ALL PAIRS OF ACTIONS\n",
    "for i in range(exparr.size):\n",
    "    for j in range(int1[i]):\n",
    "        for k in range(int1[i]):\n",
    "            #print(k)\n",
    "            rendimento = all_arr[i][j][5]-all_arr[i][k][5]\n",
    "            firstContracts = all_arr[i][j][0]\n",
    "            secondContracts = all_arr[i][k][0]\n",
    "            firstStrike = all_arr[i][j][2]\n",
    "            secondStrike = all_arr[i][k][2]\n",
    "            firstAskPremium = all_arr[i][j][5]\n",
    "            secondBidPremium = all_arr[i][k][4]\n",
    "            netpremium = firstAskPremium-secondBidPremium\n",
    "            if (netpremium != 0):\n",
    "                rendimento = ((secondStrike-firstStrike-netpremium)/netpremium)*100\n",
    "            else:\n",
    "                rendimento = 0\n",
    "            #if(firstStrike<secondStrike):\n",
    "            new_row = {'FirstContract': firstContracts, 'SecondContract': secondContracts,\n",
    "            'FirstStrike': firstStrike, 'SecondStrike': secondStrike,\n",
    "            'FirstAskPremium': firstAskPremium, 'SecondBidPremium': secondBidPremium,\n",
    "            'RendimentoPerc': rendimento, 'RischioDollar': (netpremium*100)}\n",
    "            df = df.append(new_row, ignore_index=True)"
   ]
  },
  {
   "cell_type": "code",
   "execution_count": 5,
   "metadata": {},
   "outputs": [
    {
     "name": "stdout",
     "output_type": "stream",
     "text": [
      "             FirstContract       SecondContract  FirstStrike  SecondStrike  \\\n",
      "4959   INTC230127C00030000  INTC230127C00039000         30.0          39.0   \n",
      "9558   INTC230721C00035000  INTC230721C00044000         35.0          44.0   \n",
      "9557   INTC230721C00035000  INTC230721C00043000         35.0          43.0   \n",
      "4958   INTC230127C00030000  INTC230127C00038000         30.0          38.0   \n",
      "5399   INTC230203C00030000  INTC230203C00039000         30.0          39.0   \n",
      "...                    ...                  ...          ...           ...   \n",
      "5727   INTC230210C00029000  INTC230210C00036000         29.0          36.0   \n",
      "4909   INTC230127C00028000  INTC230127C00037000         28.0          37.0   \n",
      "10101  INTC240119C00035000  INTC240119C00040000         35.0          40.0   \n",
      "9478   INTC230721C00032000  INTC230721C00039000         32.0          39.0   \n",
      "8388   INTC230616C00030000  INTC230616C00039000         30.0          39.0   \n",
      "\n",
      "       FirstAskPremium  SecondBidPremium  RendimentoPerc  RischioDollar  \n",
      "4959              1.11              0.03      733.333333          108.0  \n",
      "9558              1.20              0.12      733.333333          108.0  \n",
      "9557              1.20              0.17      676.699029          103.0  \n",
      "4958              1.11              0.03      640.740741          108.0  \n",
      "5399              1.26              0.04      637.704918          122.0  \n",
      "...                ...               ...             ...            ...  \n",
      "5727              1.82              0.10      306.976744          172.0  \n",
      "4909              2.26              0.04      305.405405          222.0  \n",
      "10101             2.38              1.14      303.225806          124.0  \n",
      "9478              2.22              0.48      302.298851          174.0  \n",
      "8388              2.61              0.37      301.785714          224.0  \n",
      "\n",
      "[79 rows x 8 columns]\n"
     ]
    }
   ],
   "source": [
    "#QUERY\n",
    "dfQuery = df.sort_values('RendimentoPerc',ascending=False).query('FirstStrike<SecondStrike').query('RendimentoPerc>300').query('RischioDollar<400').query('RischioDollar>100').query('SecondStrike-FirstStrike<10')\n",
    "print(dfQuery)\n",
    "dfQuery.to_csv('/Users/alessandro/Desktop/MenthorQPyForFin/'+ticker+'.csv')"
   ]
  }
 ],
 "metadata": {
  "kernelspec": {
   "display_name": "Python 3",
   "language": "python",
   "name": "python3"
  },
  "language_info": {
   "codemirror_mode": {
    "name": "ipython",
    "version": 3
   },
   "file_extension": ".py",
   "mimetype": "text/x-python",
   "name": "python",
   "nbconvert_exporter": "python",
   "pygments_lexer": "ipython3",
   "version": "3.9.7"
  },
  "orig_nbformat": 4,
  "vscode": {
   "interpreter": {
    "hash": "aee8b7b246df8f9039afb4144a1f6fd8d2ca17a180786b69acc140d282b71a49"
   }
  }
 },
 "nbformat": 4,
 "nbformat_minor": 2
}
